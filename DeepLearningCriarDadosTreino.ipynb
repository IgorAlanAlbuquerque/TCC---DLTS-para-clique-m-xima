{
 "cells": [
  {
   "cell_type": "markdown",
   "metadata": {
    "id": "Kdb3ZdSjNho6"
   },
   "source": [
    "Gerar grafos"
   ]
  },
  {
   "cell_type": "code",
   "execution_count": 1,
   "metadata": {
    "id": "L4yep3mbMTYK"
   },
   "outputs": [],
   "source": [
    "import networkx as nx\n",
    "import random\n",
    "import numpy as np\n",
    "\n",
    "def generate_random_graph(num_graph, num_node_min, num_node_max, prob_min, prob_max):\n",
    "    graphs = []\n",
    "    for i in range(num_graph):\n",
    "        num_nodes = random.randint(num_node_min, num_node_max)\n",
    "        edge_prob = random.uniform(prob_min, prob_max)\n",
    "        graph = nx.gnp_random_graph(num_nodes, edge_prob)\n",
    "        graphs.append(graph)\n",
    "    return graphs"
   ]
  },
  {
   "cell_type": "markdown",
   "metadata": {
    "id": "6UehHz2MPHg1"
   },
   "source": [
    "Funções para escrever no arquivo"
   ]
  },
  {
   "cell_type": "code",
   "execution_count": 2,
   "metadata": {
    "id": "5HSf10LEr8QX"
   },
   "outputs": [],
   "source": [
    "def escrever_estado(matriz_adj, clique_atual, movimento):\n",
    "    estado = []\n",
    "    for linha in matriz_adj:\n",
    "        estado.append(\"AA \" + ', '.join(map(str, linha)) + \"\\n\")\n",
    "    estado.append(\"AA cliqueatual \" + ' '.join(map(str, clique_atual)) + \"\\n\")\n",
    "    estado.append(f\"AA movimento {movimento}\\n\")\n",
    "    return estado"
   ]
  },
  {
   "cell_type": "code",
   "execution_count": 3,
   "metadata": {
    "id": "d0uqRAWya46I"
   },
   "outputs": [],
   "source": [
    "def copiar(arquivo, estados):\n",
    "  with open(f\"instancias/0{arquivo}\", 'w') as f:\n",
    "      for estado in estados:\n",
    "          f.writelines(estado)"
   ]
  },
  {
   "cell_type": "markdown",
   "metadata": {
    "id": "AnzysLfTqyTO"
   },
   "source": [
    "Coloração"
   ]
  },
  {
   "cell_type": "code",
   "execution_count": 4,
   "metadata": {
    "id": "6dxv0PYCPUWN"
   },
   "outputs": [],
   "source": [
    "def coloracao_gulosa(G, order):\n",
    "    color = {}\n",
    "    classes = []\n",
    "    for v in order:\n",
    "        # Cores disponíveis\n",
    "        available = [True] * G.number_of_nodes()\n",
    "        for u in G[v]:\n",
    "            if u in color:\n",
    "                available[color[u]] = False\n",
    "        for i in range(G.number_of_nodes()):\n",
    "            if available[i]:\n",
    "                color[v] = i\n",
    "                if i < len(classes):\n",
    "                    classes[i].append(v)\n",
    "                else:\n",
    "                    classes.append([v])\n",
    "                break\n",
    "    return classes, color"
   ]
  },
  {
   "cell_type": "code",
   "execution_count": 5,
   "metadata": {},
   "outputs": [],
   "source": [
    "def two_phase_coloring(G, order):\n",
    "    # Fase 1: Coloração inicial (greedy)\n",
    "    order2 = sorted(order, key=lambda v: G.degree(v), reverse=True)\n",
    "    classes, initial_coloring = coloracao_gulosa(G, order2)\n",
    "    \n",
    "    # Fase 2: Coloração na ordem inversa da inicial\n",
    "    reverse_order = sorted(initial_coloring.keys(), key=lambda x: initial_coloring[x], reverse=True)\n",
    "    second_classes, second_coloring = coloracao_gulosa(G, reverse_order)\n",
    "    \n",
    "    return second_classes"
   ]
  },
  {
   "cell_type": "markdown",
   "metadata": {
    "id": "OURRB8-9q02O"
   },
   "source": [
    "Encontrar clique máxima"
   ]
  },
  {
   "cell_type": "code",
   "execution_count": 6,
   "metadata": {
    "id": "tiJt-uRf4E9I"
   },
   "outputs": [],
   "source": [
    "def atualizar_matriz_adjacencia(matriz_adj, v):\n",
    "\n",
    "    nova_matriz_adj = matriz_adj.copy()\n",
    "    for i in range(len(nova_matriz_adj)):\n",
    "        if nova_matriz_adj[v][i] == 0 and i != v:\n",
    "            nova_matriz_adj[i, :] = 0\n",
    "    # Atribuir 0 a todas as arestas do vértice v\n",
    "    nova_matriz_adj[v, :] = 0\n",
    "    return nova_matriz_adj"
   ]
  },
  {
   "cell_type": "code",
   "execution_count": 7,
   "metadata": {
    "id": "U4H85uKXV2wZ"
   },
   "outputs": [],
   "source": [
    "def bb_clique(G, V, clique_atual, best_clique, arquivo, estados_escritos, adj_matriz):\n",
    "  if len(V) == 0:\n",
    "    if len(clique_atual) > len(best_clique):\n",
    "      best_clique.clear()\n",
    "      best_clique.extend(clique_atual)\n",
    "      copiar(arquivo, estados_escritos)\n",
    "  else:\n",
    "    classes = two_phase_coloring(G, list(V))\n",
    "    limite_superior = len(classes)\n",
    "\n",
    "    if len(clique_atual) + limite_superior > len(best_clique):\n",
    "        V = sorted(V, key=lambda v: G.degree(v), reverse=True)\n",
    "        usado = set([])\n",
    "        for v in list(V):\n",
    "            clique_vector = [1 if i in clique_atual else 0 for i in range(G.number_of_nodes())]\n",
    "            clique_atual.append(v)\n",
    "            V2 = {u for u in V if u in G[v] and u not in usado}\n",
    "            if len(V2)+len(clique_atual) > len(best_clique):\n",
    "                estado = escrever_estado(adj_matriz, clique_vector, v)\n",
    "                estados_escritos.append(estado)\n",
    "                matriz_adj_atualizada = atualizar_matriz_adjacencia(adj_matriz, v)\n",
    "                bb_clique(G, V2, clique_atual, best_clique, arquivo, estados_escritos, matriz_adj_atualizada)\n",
    "                estados_escritos.pop()\n",
    "            usado.add(v)\n",
    "            clique_atual.pop()"
   ]
  },
  {
   "cell_type": "code",
   "execution_count": 8,
   "metadata": {
    "id": "V0VbfFnSc1mD"
   },
   "outputs": [],
   "source": [
    "import os\n",
    "\n",
    "def find_max_clique(G, arquivo):\n",
    "    best_clique = []\n",
    "    es = []\n",
    "    V = set(G.nodes())\n",
    "    V = sorted(V)\n",
    "    matriz_adj = np.array(nx.adjacency_matrix(G).todense())\n",
    "    bb_clique(G, V, [], best_clique, arquivo, es, matriz_adj)\n",
    "\n",
    "    if os.path.exists(f\"instancias/{arquivo}\"):\n",
    "      os.remove(f\"instancias/{arquivo}\")\n",
    "\n",
    "    return best_clique"
   ]
  },
  {
   "cell_type": "code",
   "execution_count": null,
   "metadata": {
    "colab": {
     "base_uri": "https://localhost:8080/"
    },
    "id": "hhPAho6ddJ7m",
    "outputId": "64f10f88-75cc-438e-aa4f-c3d65fee0047"
   },
   "outputs": [
    {
     "name": "stdout",
     "output_type": "stream",
     "text": [
      "1785\n",
      "1786\n",
      "1787\n",
      "1788\n",
      "1789\n",
      "1790\n"
     ]
    }
   ],
   "source": [
    "def main():\n",
    "    graphs = generate_random_graph(2000, 10, 250, 0.4, 0.8)\n",
    "    i=0\n",
    "    os.makedirs(\"instancias\", exist_ok=True)\n",
    "    for G in graphs:\n",
    "      find_max_clique(G, f\"{i}.txt\")\n",
    "      i+=1\n",
    "\n",
    "if __name__ == \"__main__\":\n",
    "    main()"
   ]
  }
 ],
 "metadata": {
  "colab": {
   "provenance": []
  },
  "kernelspec": {
   "display_name": "Python 3 (ipykernel)",
   "language": "python",
   "name": "python3"
  },
  "language_info": {
   "codemirror_mode": {
    "name": "ipython",
    "version": 3
   },
   "file_extension": ".py",
   "mimetype": "text/x-python",
   "name": "python",
   "nbconvert_exporter": "python",
   "pygments_lexer": "ipython3",
   "version": "3.10.14"
  }
 },
 "nbformat": 4,
 "nbformat_minor": 4
}
