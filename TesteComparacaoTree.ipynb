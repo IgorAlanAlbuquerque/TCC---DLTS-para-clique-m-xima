{
 "cells": [
  {
   "cell_type": "code",
   "execution_count": 1,
   "id": "1ffe7046-a29b-4520-9895-4ee484873766",
   "metadata": {},
   "outputs": [],
   "source": [
    "import networkx as nx\n",
    "import random\n",
    "import numpy as np\n",
    "\n",
    "def generate_random_graph(num_graph,num_node_min,num_node_max,prob_min,prob_max):\n",
    "    graphs = []\n",
    "    for i in range(num_graph):\n",
    "        num_nodes = random.randint(num_node_min, num_node_max)\n",
    "        edge_prob = random.uniform(prob_min, prob_max)\n",
    "        graph = nx.gnp_random_graph(num_nodes, edge_prob)\n",
    "        graphs.append(graph)\n",
    "    return graphs"
   ]
  },
  {
   "cell_type": "code",
   "execution_count": 2,
   "id": "4a37aeae-3ab4-4134-8541-23b40e6e0cd2",
   "metadata": {},
   "outputs": [],
   "source": [
    "def coloracao_gulosa(G, order):\n",
    "    color = {}\n",
    "    classes = []\n",
    "    for v in order:\n",
    "        # Cores disponíveis\n",
    "        available = [True] * G.number_of_nodes()\n",
    "        for u in G[v]:\n",
    "            if u in color:\n",
    "                available[color[u]] = False\n",
    "        for i in range(G.number_of_nodes()):\n",
    "            if available[i]:\n",
    "                color[v] = i\n",
    "                if i < len(classes):\n",
    "                    classes[i].append(v)\n",
    "                else:\n",
    "                    classes.append([v])\n",
    "                break\n",
    "    return classes, color"
   ]
  },
  {
   "cell_type": "code",
   "execution_count": 3,
   "id": "0bb88dd9-8a6a-4a6e-8acc-ca04ca4e4eb5",
   "metadata": {},
   "outputs": [],
   "source": [
    "def two_phase_coloring(G, order):\n",
    "    # Fase 1: Coloração inicial (greedy)\n",
    "    order2 = sorted(order, key=lambda v: G.degree(v), reverse=True)\n",
    "    classes, initial_coloring = coloracao_gulosa(G, order2)\n",
    "    \n",
    "    # Fase 2: Coloração na ordem inversa da inicial\n",
    "    reverse_order = sorted(initial_coloring.keys(), key=lambda x: initial_coloring[x], reverse=True)\n",
    "    second_classes, second_coloring = coloracao_gulosa(G, reverse_order)\n",
    "    \n",
    "    return second_classes"
   ]
  },
  {
   "cell_type": "code",
   "execution_count": 4,
   "id": "cbfad4d3-d0f9-450f-8cc8-e1910d46f6f5",
   "metadata": {},
   "outputs": [],
   "source": [
    "def bb_clique(G, V, clique_atual, best_clique):\n",
    "    if len(V) == 0:\n",
    "        if len(clique_atual) > len(best_clique):\n",
    "            best_clique.clear()\n",
    "            best_clique.extend(clique_atual)\n",
    "    else:\n",
    "        classes = two_phase_coloring(G, list(V))\n",
    "        limite_superior = len(classes)\n",
    "        if len(clique_atual) + limite_superior > len(best_clique):\n",
    "            V = sorted(V, key=lambda v: G.degree(v), reverse=True)\n",
    "            usado = set([])\n",
    "            for v in list(V):\n",
    "                clique_atual.append(v)\n",
    "                V2 = {u for u in V if u in G[v] and u not in usado}\n",
    "                if len(V2)+len(clique_atual) > len(best_clique):\n",
    "                    bb_clique(G, V2, clique_atual, best_clique)\n",
    "                usado.add(v)\n",
    "                clique_atual.pop()"
   ]
  },
  {
   "cell_type": "code",
   "execution_count": 5,
   "id": "2b82e0b3-c011-46ec-8398-af088620fe5d",
   "metadata": {},
   "outputs": [],
   "source": [
    "import os\n",
    "import time\n",
    "from io import StringIO\n",
    "\n",
    "def find_max_clique(G, arquivo):\n",
    "    best_clique = []\n",
    "    estado = []\n",
    "    V = set(G.nodes())\n",
    "    V = sorted(V)\n",
    "    matriz_adj = np.array(nx.adjacency_matrix(G).todense())\n",
    "    for linha in matriz_adj:\n",
    "        estado.append(\"AA \" + ', '.join(map(str, linha)) + \"\\n\")\n",
    "        \n",
    "    tempo_ini = time.time()\n",
    "    bb_clique(G, V, [], best_clique)\n",
    "    tempo_fim = time.time()\n",
    "    \n",
    "    estado.append(\"AA clique arvore \" + ' '.join(map(str, best_clique)) + \"\\n\")\n",
    "    estado.append(f\"AA tempo da arvore {tempo_fim-tempo_ini}\")\n",
    "    with open(arquivo,'a') as f:\n",
    "        f.writelines(estado)"
   ]
  },
  {
   "cell_type": "code",
   "execution_count": null,
   "id": "2ccde334-fad5-4e31-90cc-03375abd7da7",
   "metadata": {},
   "outputs": [
    {
     "name": "stdout",
     "output_type": "stream",
     "text": [
      "362\n",
      "363\n",
      "364\n"
     ]
    }
   ],
   "source": [
    "def main():\n",
    "    graphs = generate_random_graph(500, 10, 250, 0.3, 0.8)\n",
    "    i=0\n",
    "    os.makedirs(\"instanciasTeste\", exist_ok=True)\n",
    "    for G in graphs:\n",
    "        find_max_clique(G, f\"instanciasTeste/{i}.txt\")\n",
    "        i+=1\n",
    "\n",
    "if __name__ == \"__main__\":\n",
    "    main()"
   ]
  }
 ],
 "metadata": {
  "kernelspec": {
   "display_name": "Python 3 (ipykernel)",
   "language": "python",
   "name": "python3"
  },
  "language_info": {
   "codemirror_mode": {
    "name": "ipython",
    "version": 3
   },
   "file_extension": ".py",
   "mimetype": "text/x-python",
   "name": "python",
   "nbconvert_exporter": "python",
   "pygments_lexer": "ipython3",
   "version": "3.10.14"
  }
 },
 "nbformat": 4,
 "nbformat_minor": 5
}
